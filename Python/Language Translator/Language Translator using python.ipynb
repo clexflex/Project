{
 "cells": [
  {
   "cell_type": "markdown",
   "id": "0a3f971d",
   "metadata": {},
   "source": [
    "#### Language Translator using Python\n"
   ]
  },
  {
   "cell_type": "code",
   "execution_count": 1,
   "id": "dda21583",
   "metadata": {
    "scrolled": true
   },
   "outputs": [
    {
     "name": "stdout",
     "output_type": "stream",
     "text": [
      "Collecting googletrans==4.0.0-rc1\n",
      "  Using cached googletrans-4.0.0rc1.tar.gz (20 kB)\n",
      "  Preparing metadata (setup.py) ... \u001b[?25ldone\n",
      "\u001b[?25hRequirement already satisfied: httpx==0.13.3 in /Users/yashraj/opt/anaconda3/lib/python3.9/site-packages (from googletrans==4.0.0-rc1) (0.13.3)\n",
      "Requirement already satisfied: certifi in /Users/yashraj/opt/anaconda3/lib/python3.9/site-packages (from httpx==0.13.3->googletrans==4.0.0-rc1) (2022.9.24)\n",
      "Requirement already satisfied: rfc3986<2,>=1.3 in /Users/yashraj/opt/anaconda3/lib/python3.9/site-packages (from httpx==0.13.3->googletrans==4.0.0-rc1) (1.5.0)\n",
      "Requirement already satisfied: idna==2.* in /Users/yashraj/opt/anaconda3/lib/python3.9/site-packages (from httpx==0.13.3->googletrans==4.0.0-rc1) (2.10)\n",
      "Requirement already satisfied: hstspreload in /Users/yashraj/opt/anaconda3/lib/python3.9/site-packages (from httpx==0.13.3->googletrans==4.0.0-rc1) (2024.3.1)\n",
      "Requirement already satisfied: httpcore==0.9.* in /Users/yashraj/opt/anaconda3/lib/python3.9/site-packages (from httpx==0.13.3->googletrans==4.0.0-rc1) (0.9.1)\n",
      "Requirement already satisfied: sniffio in /Users/yashraj/opt/anaconda3/lib/python3.9/site-packages (from httpx==0.13.3->googletrans==4.0.0-rc1) (1.2.0)\n",
      "Requirement already satisfied: chardet==3.* in /Users/yashraj/opt/anaconda3/lib/python3.9/site-packages (from httpx==0.13.3->googletrans==4.0.0-rc1) (3.0.4)\n",
      "Requirement already satisfied: h11<0.10,>=0.8 in /Users/yashraj/opt/anaconda3/lib/python3.9/site-packages (from httpcore==0.9.*->httpx==0.13.3->googletrans==4.0.0-rc1) (0.9.0)\n",
      "Requirement already satisfied: h2==3.* in /Users/yashraj/opt/anaconda3/lib/python3.9/site-packages (from httpcore==0.9.*->httpx==0.13.3->googletrans==4.0.0-rc1) (3.2.0)\n",
      "Requirement already satisfied: hyperframe<6,>=5.2.0 in /Users/yashraj/opt/anaconda3/lib/python3.9/site-packages (from h2==3.*->httpcore==0.9.*->httpx==0.13.3->googletrans==4.0.0-rc1) (5.2.0)\n",
      "Requirement already satisfied: hpack<4,>=3.0 in /Users/yashraj/opt/anaconda3/lib/python3.9/site-packages (from h2==3.*->httpcore==0.9.*->httpx==0.13.3->googletrans==4.0.0-rc1) (3.0.0)\n",
      "Building wheels for collected packages: googletrans\n",
      "  Building wheel for googletrans (setup.py) ... \u001b[?25ldone\n",
      "\u001b[?25h  Created wheel for googletrans: filename=googletrans-4.0.0rc1-py3-none-any.whl size=17397 sha256=2a2f8e568271038d8f998f61b42d02475ee9d2a18464dbcd306dbecb78d6db46\n",
      "  Stored in directory: /Users/yashraj/Library/Caches/pip/wheels/60/b3/27/d8aff3e2d5c2d0d97a117cdf0d5f13cd121e2c2b5fb49b55a0\n",
      "Successfully built googletrans\n",
      "Installing collected packages: googletrans\n",
      "  Attempting uninstall: googletrans\n",
      "    Found existing installation: googletrans 3.0.0\n",
      "    Uninstalling googletrans-3.0.0:\n",
      "      Successfully uninstalled googletrans-3.0.0\n",
      "Successfully installed googletrans-4.0.0rc1\n",
      "Note: you may need to restart the kernel to use updated packages.\n"
     ]
    }
   ],
   "source": [
    "pip install googletrans==4.0.0-rc1\n"
   ]
  },
  {
   "cell_type": "code",
   "execution_count": 2,
   "id": "a78f5914",
   "metadata": {},
   "outputs": [],
   "source": [
    "from tkinter import Tk, Label, Entry, Text, Button \n",
    "# provides fast and easy way to create GUI applications in python\n",
    "from tkinter import ttk\n",
    "#ttk is a module used to style tkinter module , like CSS in WEbDev\n",
    "from googletrans import Translator, LANGUAGES"
   ]
  },
  {
   "cell_type": "code",
   "execution_count": 3,
   "id": "a11f7459",
   "metadata": {
    "scrolled": true
   },
   "outputs": [],
   "source": [
    "root = Tk()\n",
    "root.geometry('1100x320')\n",
    "root.resizable(0, 0)\n",
    "# The line below sets the icon. Make sure to provide the correct path to the icon file.\n",
    "# root.iconbitmap('ClexFlex.ico')\n",
    "root['bg'] = 'beige'\n",
    "root.title('Language Translator by Yashraj')\n",
    "\n",
    "Label(root, text=\"Language Translator\", font=\"Arial 20 bold\").pack()\n"
   ]
  },
  {
   "cell_type": "code",
   "execution_count": 4,
   "id": "456342b4",
   "metadata": {},
   "outputs": [],
   "source": [
    "Label(root, text=\"Enter Text\", font='Arial 14 bold', bg='white smoke').place(x=165, y=90)"
   ]
  },
  {
   "cell_type": "code",
   "execution_count": 5,
   "id": "aff6c84f",
   "metadata": {
    "scrolled": true
   },
   "outputs": [
    {
     "data": {
      "text/plain": [
       "''"
      ]
     },
     "execution_count": 5,
     "metadata": {},
     "output_type": "execute_result"
    }
   ],
   "source": [
    "Input_text = Entry(root, width=60)\n",
    "Input_text.place(x=30, y=130)\n",
    "Input_text.get()"
   ]
  },
  {
   "cell_type": "code",
   "execution_count": 6,
   "id": "9b7d67e4",
   "metadata": {},
   "outputs": [],
   "source": [
    "Label(root, text=\"Output\", font='Arial 14 bold', bg='white smoke').place(x=780, y=90)\n",
    "output_text = Text(root, font='arial 10', height=5, wrap='word', padx=5, pady=5, width=50)\n",
    "output_text.place(x=600, y=130)\n",
    "\n",
    "language = list(LANGUAGES.values())\n",
    "\n",
    "dest_lang = ttk.Combobox(root, values=language, width=22)\n",
    "dest_lang.place(x=130, y=160)\n",
    "dest_lang.set('Choose Language')\n",
    "\n",
    "# creating a function to fetch data\n",
    "def Translate():\n",
    "    translator = Translator()\n",
    "    translated = translator.translate(text=Input_text.get(), dest=dest_lang.get(), src='en')\n",
    "    output_text.delete(1.0, 'end')  # Use 'end' instead of END\n",
    "    output_text.insert('end', translated.text)  # Use 'end' instead of END\n",
    "\n",
    "trans_btn = Button(root, text='Translate', font='arial 12 bold', pady=5, command=Translate, bg='orange',\n",
    "                   activebackground='green')\n",
    "trans_btn.place(x=445, y=180)\n",
    "\n",
    "root.mainloop()"
   ]
  }
 ],
 "metadata": {
  "kernelspec": {
   "display_name": "Python 3 (ipykernel)",
   "language": "python",
   "name": "python3"
  },
  "language_info": {
   "codemirror_mode": {
    "name": "ipython",
    "version": 3
   },
   "file_extension": ".py",
   "mimetype": "text/x-python",
   "name": "python",
   "nbconvert_exporter": "python",
   "pygments_lexer": "ipython3",
   "version": "3.9.13"
  }
 },
 "nbformat": 4,
 "nbformat_minor": 5
}
