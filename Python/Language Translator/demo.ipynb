{
 "cells": [
  {
   "cell_type": "code",
   "execution_count": 2,
   "id": "fed28a22",
   "metadata": {},
   "outputs": [
    {
     "ename": "NameError",
     "evalue": "name 'WORD' is not defined",
     "output_type": "error",
     "traceback": [
      "\u001b[0;31m---------------------------------------------------------------------------\u001b[0m",
      "\u001b[0;31mNameError\u001b[0m                                 Traceback (most recent call last)",
      "\u001b[0;32m/var/folders/q6/8yscqmqs1cn_0n8z28c8vlw80000gn/T/ipykernel_92448/1874512487.py\u001b[0m in \u001b[0;36m<module>\u001b[0;34m\u001b[0m\n\u001b[1;32m     17\u001b[0m \u001b[0;34m\u001b[0m\u001b[0m\n\u001b[1;32m     18\u001b[0m \u001b[0mLabel\u001b[0m\u001b[0;34m(\u001b[0m\u001b[0mroot\u001b[0m\u001b[0;34m,\u001b[0m \u001b[0mtext\u001b[0m\u001b[0;34m=\u001b[0m\u001b[0;34m\"Output\"\u001b[0m\u001b[0;34m,\u001b[0m \u001b[0mfont\u001b[0m\u001b[0;34m=\u001b[0m\u001b[0;34m'Arial 14 bold'\u001b[0m\u001b[0;34m,\u001b[0m \u001b[0mbg\u001b[0m\u001b[0;34m=\u001b[0m\u001b[0;34m'white smoke'\u001b[0m\u001b[0;34m)\u001b[0m\u001b[0;34m.\u001b[0m\u001b[0mplace\u001b[0m\u001b[0;34m(\u001b[0m\u001b[0mx\u001b[0m\u001b[0;34m=\u001b[0m\u001b[0;36m780\u001b[0m\u001b[0;34m,\u001b[0m \u001b[0my\u001b[0m\u001b[0;34m=\u001b[0m\u001b[0;36m90\u001b[0m\u001b[0;34m)\u001b[0m\u001b[0;34m\u001b[0m\u001b[0;34m\u001b[0m\u001b[0m\n\u001b[0;32m---> 19\u001b[0;31m \u001b[0moutput_text\u001b[0m \u001b[0;34m=\u001b[0m \u001b[0mText\u001b[0m\u001b[0;34m(\u001b[0m\u001b[0mroot\u001b[0m\u001b[0;34m,\u001b[0m \u001b[0mfont\u001b[0m\u001b[0;34m=\u001b[0m\u001b[0;34m'arial 10'\u001b[0m\u001b[0;34m,\u001b[0m \u001b[0mheight\u001b[0m\u001b[0;34m=\u001b[0m\u001b[0;36m5\u001b[0m\u001b[0;34m,\u001b[0m \u001b[0mwrap\u001b[0m\u001b[0;34m=\u001b[0m\u001b[0mWORD\u001b[0m \u001b[0;34m,\u001b[0m \u001b[0mpadx\u001b[0m\u001b[0;34m=\u001b[0m\u001b[0;36m5\u001b[0m\u001b[0;34m,\u001b[0m \u001b[0mpady\u001b[0m\u001b[0;34m=\u001b[0m\u001b[0;36m5\u001b[0m\u001b[0;34m,\u001b[0m \u001b[0mwidth\u001b[0m\u001b[0;34m=\u001b[0m\u001b[0;36m50\u001b[0m\u001b[0;34m)\u001b[0m\u001b[0;34m\u001b[0m\u001b[0;34m\u001b[0m\u001b[0m\n\u001b[0m\u001b[1;32m     20\u001b[0m \u001b[0moutput_text\u001b[0m\u001b[0;34m.\u001b[0m\u001b[0mplace\u001b[0m\u001b[0;34m(\u001b[0m\u001b[0mx\u001b[0m\u001b[0;34m=\u001b[0m\u001b[0;36m600\u001b[0m\u001b[0;34m,\u001b[0m \u001b[0my\u001b[0m\u001b[0;34m=\u001b[0m\u001b[0;36m130\u001b[0m\u001b[0;34m)\u001b[0m\u001b[0;34m\u001b[0m\u001b[0;34m\u001b[0m\u001b[0m\n\u001b[1;32m     21\u001b[0m \u001b[0;34m\u001b[0m\u001b[0m\n",
      "\u001b[0;31mNameError\u001b[0m: name 'WORD' is not defined"
     ]
    }
   ],
   "source": [
    "from tkinter import Tk, Label, Entry, Text\n",
    "from tkinter import ttk\n",
    "from googletrans import Translator, LANGUAGES\n",
    "\n",
    "root = Tk()\n",
    "root.geometry('1100x320')\n",
    "root.resizable(0, 0)\n",
    "root.iconbitmap('ClexFlex.ico')\n",
    "root['bg'] = 'beige'\n",
    "root.title('Language Translator by Yashraj')\n",
    "\n",
    "Label(root, text=\"Language Translator\", font=\"Arial 20 bold\").pack()\n",
    "Label(root, text=\"Enter Text\", font='Arial 14 bold', bg='white smoke').place(x=165, y=90)\n",
    "\n",
    "Input_text = Entry(root, width=60)\n",
    "Input_text.place(x=30, y=130)\n",
    "\n",
    "Label(root, text=\"Output\", font='Arial 14 bold', bg='white smoke').place(x=780, y=90)\n",
    "output_text = Text(root, font='arial 10', height=5, wrap=WORD , padx=5, pady=5, width=50)\n",
    "output_text.place(x=600, y=130)\n",
    "\n",
    "language = list(LANGUAGES.values())\n",
    "\n",
    "dest_lang = ttk.Combobox(root, values=language, width=22)\n",
    "dest_lang.place(x=130, y=160)\n",
    "dest_lang.set('Choose Language')\n",
    "\n",
    "def Translate():\n",
    "    translator = Translator()\n",
    "    translated = translator.translate(text=Input_text.get(), dest=dest_lang.get(), src='en')\n",
    "    output_text.delete(1.0, END)\n",
    "    output_text.insert(END, translated.text)\n",
    "\n",
    "trans_btn = Button(root, text='Translate', font='arial 12 bold', pady=5, command=Translate, bg='orange', activebackground='green')\n",
    "trans_btn.place(x=445, y=180)\n",
    "\n",
    "root.mainloop()\n"
   ]
  }
 ],
 "metadata": {
  "kernelspec": {
   "display_name": "Python 3 (ipykernel)",
   "language": "python",
   "name": "python3"
  },
  "language_info": {
   "codemirror_mode": {
    "name": "ipython",
    "version": 3
   },
   "file_extension": ".py",
   "mimetype": "text/x-python",
   "name": "python",
   "nbconvert_exporter": "python",
   "pygments_lexer": "ipython3",
   "version": "3.9.13"
  }
 },
 "nbformat": 4,
 "nbformat_minor": 5
}
