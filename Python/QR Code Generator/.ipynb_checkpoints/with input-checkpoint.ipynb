{
 "cells": [
  {
   "cell_type": "code",
   "execution_count": 1,
   "id": "8e8052d7",
   "metadata": {},
   "outputs": [
    {
     "name": "stdout",
     "output_type": "stream",
     "text": [
      "Requirement already satisfied: qrcode in /Users/yashraj/opt/anaconda3/lib/python3.9/site-packages (7.4.2)\n",
      "Requirement already satisfied: typing-extensions in /Users/yashraj/opt/anaconda3/lib/python3.9/site-packages (from qrcode) (4.3.0)\n",
      "Requirement already satisfied: pypng in /Users/yashraj/opt/anaconda3/lib/python3.9/site-packages (from qrcode) (0.20220715.0)\n",
      "Note: you may need to restart the kernel to use updated packages.\n"
     ]
    }
   ],
   "source": [
    "pip install qrcode"
   ]
  },
  {
   "cell_type": "code",
   "execution_count": 2,
   "id": "c18d2c79",
   "metadata": {},
   "outputs": [
    {
     "name": "stdout",
     "output_type": "stream",
     "text": [
      "Enter the link : https://github.com/clexflex\n",
      "Do you want to rename the QR code Image?(y/n)y\n",
      "Enter the File Name with Extension: (my_qr.png)MyGit.png\n"
     ]
    }
   ],
   "source": [
    "import qrcode\n",
    "url_link=input(\"\\nEnter the link : \")\n",
    "opt=input(\"\\nDo you want to rename the QR code Image?(y/n)\").lower() ==\"y\"\n",
    "\n",
    "rename = \"QR_GENERATED.png\"\n",
    "if opt==True:\n",
    "    rename=input(\"\\nEnter the File Name with Extension: (my_qr.png)\")\n",
    "    \n",
    "\n",
    "my_qr = qrcode.make(url_link)\n",
    "my_qr.save(rename, scale = 8)\n",
    "\n",
    "print(\"\\nQR GENERATED SUCCESSFULLY...\\n\\n\")"
   ]
  }
 ],
 "metadata": {
  "kernelspec": {
   "display_name": "Python 3 (ipykernel)",
   "language": "python",
   "name": "python3"
  },
  "language_info": {
   "codemirror_mode": {
    "name": "ipython",
    "version": 3
   },
   "file_extension": ".py",
   "mimetype": "text/x-python",
   "name": "python",
   "nbconvert_exporter": "python",
   "pygments_lexer": "ipython3",
   "version": "3.9.13"
  }
 },
 "nbformat": 4,
 "nbformat_minor": 5
}
