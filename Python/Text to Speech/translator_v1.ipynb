{
 "cells": [
  {
   "cell_type": "markdown",
   "id": "fe79bd73",
   "metadata": {},
   "source": [
    "## SPEECH Translator\n",
    "\n",
    "### 1. Speech to Text\n",
    "\n",
    "for this we are using below libraries:\n",
    "    SpeechRecognition\n",
    "    pyaudio\n",
    "    \n",
    "### 2. Text to Text\n",
    "    for this we are using below libraries:\n",
    "    google_trans_new\n",
    "    \n",
    "### 3. Text to Speech\n",
    "    for this we are using below libraries:\n",
    "    gTTS\n",
    "    playsound\n",
    "    \n",
    "    "
   ]
  },
  {
   "cell_type": "markdown",
   "id": "b37e6b66",
   "metadata": {},
   "source": [
    "### Python Libraries to install in terminal or here\n",
    "\n",
    "#### pip install SpeechRecognition\n",
    "#### pip install pyaudio\n",
    "#### pip install google-trans-new\n",
    "#### pip install gTTS\n",
    "#### pip install playsound"
   ]
  },
  {
   "cell_type": "code",
   "execution_count": 13,
   "id": "38bf0c3f",
   "metadata": {},
   "outputs": [
    {
     "ename": "SyntaxError",
     "evalue": "invalid syntax (4155664001.py, line 1)",
     "output_type": "error",
     "traceback": [
      "\u001b[0;36m  File \u001b[0;32m\"/var/folders/q6/8yscqmqs1cn_0n8z28c8vlw80000gn/T/ipykernel_4384/4155664001.py\"\u001b[0;36m, line \u001b[0;32m1\u001b[0m\n\u001b[0;31m    pip3 install SpeechRecognition\u001b[0m\n\u001b[0m         ^\u001b[0m\n\u001b[0;31mSyntaxError\u001b[0m\u001b[0;31m:\u001b[0m invalid syntax\n"
     ]
    }
   ],
   "source": [
    "pip3 install SpeechRecognition"
   ]
  },
  {
   "cell_type": "code",
   "execution_count": 2,
   "id": "34479170",
   "metadata": {},
   "outputs": [
    {
     "name": "stdout",
     "output_type": "stream",
     "text": [
      "Requirement already satisfied: pyaudio in /Users/yashraj/opt/anaconda3/lib/python3.9/site-packages (0.2.14)\n",
      "Note: you may need to restart the kernel to use updated packages.\n"
     ]
    }
   ],
   "source": [
    "pip install pyaudio"
   ]
  },
  {
   "cell_type": "code",
   "execution_count": 3,
   "id": "1d75832f",
   "metadata": {},
   "outputs": [
    {
     "name": "stdout",
     "output_type": "stream",
     "text": [
      "Requirement already satisfied: PyAudio in /Users/yashraj/opt/anaconda3/lib/python3.9/site-packages (0.2.14)\n",
      "Note: you may need to restart the kernel to use updated packages.\n"
     ]
    }
   ],
   "source": [
    "pip install PyAudio\n"
   ]
  },
  {
   "cell_type": "code",
   "execution_count": 4,
   "id": "4fc87dba",
   "metadata": {},
   "outputs": [
    {
     "name": "stdout",
     "output_type": "stream",
     "text": [
      "Requirement already satisfied: google-trans-new in /Users/yashraj/opt/anaconda3/lib/python3.9/site-packages (1.1.9)\n",
      "Note: you may need to restart the kernel to use updated packages.\n"
     ]
    }
   ],
   "source": [
    "pip install google-trans-new\n"
   ]
  },
  {
   "cell_type": "code",
   "execution_count": 5,
   "id": "6c9ce620",
   "metadata": {},
   "outputs": [
    {
     "name": "stdout",
     "output_type": "stream",
     "text": [
      "Requirement already satisfied: gTTS in /Users/yashraj/opt/anaconda3/lib/python3.9/site-packages (2.5.1)\n",
      "Requirement already satisfied: requests<3,>=2.27 in /Users/yashraj/opt/anaconda3/lib/python3.9/site-packages (from gTTS) (2.28.1)\n",
      "Requirement already satisfied: click<8.2,>=7.1 in /Users/yashraj/opt/anaconda3/lib/python3.9/site-packages (from gTTS) (8.0.4)\n",
      "Requirement already satisfied: certifi>=2017.4.17 in /Users/yashraj/opt/anaconda3/lib/python3.9/site-packages (from requests<3,>=2.27->gTTS) (2022.9.24)\n",
      "Requirement already satisfied: charset-normalizer<3,>=2 in /Users/yashraj/opt/anaconda3/lib/python3.9/site-packages (from requests<3,>=2.27->gTTS) (2.0.4)\n",
      "Requirement already satisfied: urllib3<1.27,>=1.21.1 in /Users/yashraj/opt/anaconda3/lib/python3.9/site-packages (from requests<3,>=2.27->gTTS) (1.26.11)\n",
      "Requirement already satisfied: idna<4,>=2.5 in /Users/yashraj/opt/anaconda3/lib/python3.9/site-packages (from requests<3,>=2.27->gTTS) (2.10)\n",
      "Note: you may need to restart the kernel to use updated packages.\n"
     ]
    }
   ],
   "source": [
    "pip install gTTS\n"
   ]
  },
  {
   "cell_type": "code",
   "execution_count": 6,
   "id": "26c723b3",
   "metadata": {},
   "outputs": [
    {
     "name": "stdout",
     "output_type": "stream",
     "text": [
      "Requirement already satisfied: playsound in /Users/yashraj/opt/anaconda3/lib/python3.9/site-packages (1.3.0)\n",
      "Note: you may need to restart the kernel to use updated packages.\n"
     ]
    }
   ],
   "source": [
    "pip install playsound"
   ]
  },
  {
   "cell_type": "code",
   "execution_count": 12,
   "id": "c98a625e",
   "metadata": {},
   "outputs": [
    {
     "ename": "ModuleNotFoundError",
     "evalue": "No module named 'pyttsx3'",
     "output_type": "error",
     "traceback": [
      "\u001b[0;31m---------------------------------------------------------------------------\u001b[0m",
      "\u001b[0;31mModuleNotFoundError\u001b[0m                       Traceback (most recent call last)",
      "\u001b[0;32m/var/folders/q6/8yscqmqs1cn_0n8z28c8vlw80000gn/T/ipykernel_4384/3660045675.py\u001b[0m in \u001b[0;36m<module>\u001b[0;34m\u001b[0m\n\u001b[1;32m      1\u001b[0m \u001b[0;32mimport\u001b[0m \u001b[0mspeech_recognition\u001b[0m \u001b[0;32mas\u001b[0m \u001b[0msr\u001b[0m\u001b[0;34m\u001b[0m\u001b[0;34m\u001b[0m\u001b[0m\n\u001b[0;32m----> 2\u001b[0;31m \u001b[0;32mimport\u001b[0m \u001b[0mpyttsx3\u001b[0m\u001b[0;34m\u001b[0m\u001b[0;34m\u001b[0m\u001b[0m\n\u001b[0m\u001b[1;32m      3\u001b[0m \u001b[0mr\u001b[0m \u001b[0;34m=\u001b[0m \u001b[0msr\u001b[0m\u001b[0;34m.\u001b[0m\u001b[0mRecognizer\u001b[0m\u001b[0;34m(\u001b[0m\u001b[0;34m)\u001b[0m\u001b[0;34m\u001b[0m\u001b[0;34m\u001b[0m\u001b[0m\n\u001b[1;32m      4\u001b[0m \u001b[0;34m\u001b[0m\u001b[0m\n\u001b[1;32m      5\u001b[0m \u001b[0;32mwith\u001b[0m \u001b[0msr\u001b[0m\u001b[0;34m.\u001b[0m\u001b[0mMicrophone\u001b[0m\u001b[0;34m(\u001b[0m\u001b[0;34m)\u001b[0m \u001b[0;32mas\u001b[0m \u001b[0msource\u001b[0m\u001b[0;34m:\u001b[0m\u001b[0;34m\u001b[0m\u001b[0;34m\u001b[0m\u001b[0m\n",
      "\u001b[0;31mModuleNotFoundError\u001b[0m: No module named 'pyttsx3'"
     ]
    }
   ],
   "source": [
    "import speech_recognition as sr\n",
    "import pyttsx3\n",
    "r = sr.Recognizer()\n",
    "\n",
    "with sr.Microphone() as source:\n",
    "    print(\"speak Now\")\n",
    "    audio = r.listen(source)\n",
    "    speech_text = r.recognize_google(audio)\n",
    "    print(speech_text)"
   ]
  }
 ],
 "metadata": {
  "kernelspec": {
   "display_name": "Python 3 (ipykernel)",
   "language": "python",
   "name": "python3"
  },
  "language_info": {
   "codemirror_mode": {
    "name": "ipython",
    "version": 3
   },
   "file_extension": ".py",
   "mimetype": "text/x-python",
   "name": "python",
   "nbconvert_exporter": "python",
   "pygments_lexer": "ipython3",
   "version": "3.9.13"
  }
 },
 "nbformat": 4,
 "nbformat_minor": 5
}
