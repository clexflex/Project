{
 "cells": [
  {
   "cell_type": "code",
   "execution_count": 1,
   "id": "8ead80ed",
   "metadata": {},
   "outputs": [],
   "source": [
    "import random\n",
    "import string"
   ]
  },
  {
   "cell_type": "code",
   "execution_count": 6,
   "id": "4006fc77",
   "metadata": {},
   "outputs": [
    {
     "name": "stdout",
     "output_type": "stream",
     "text": [
      "Enter the Minimum Length: 20\n",
      "Do you want to have numbers(y/n)? :y\n",
      "Do you want to have Special Character(y/n)? :n\n",
      "\n",
      "\n",
      "The Generated Password is :  pwbzkDwkrJnt05yRUKry\n"
     ]
    }
   ],
   "source": [
    "def generate_password(min_length, numbers=True, special_characters=True):\n",
    "    letters = string.ascii_letters\n",
    "    digits = string.digits\n",
    "    special = string.punctuation\n",
    "    \n",
    "    characters = letters\n",
    "    if numbers:\n",
    "        characters += digits\n",
    "    if special_characters:\n",
    "        characters += special\n",
    "        \n",
    "    pwd =\"\" #password\n",
    "    meets_criteria = False\n",
    "    has_number = False\n",
    "    has_special = False\n",
    "    \n",
    "    while not meets_criteria or len(pwd) < min_length:\n",
    "        new_char = random.choice(characters)\n",
    "        pwd+= new_char\n",
    "        \n",
    "        if new_char in digits:\n",
    "            has_number = True\n",
    "        elif new_char in special:\n",
    "            has_special = True\n",
    "            \n",
    "        meets_criteria = True\n",
    "        if numbers:\n",
    "            meets_criteria = has_number\n",
    "        if special_characters:\n",
    "            meets_criteria = meets_criteria and has_special\n",
    "        \n",
    "    return pwd\n",
    "\n",
    "\n",
    "min_length = int(input(\"Enter the Minimum Length: \"))\n",
    "has_number = input(\"Do you want to have numbers(y/n)? :\").lower() == \"y\"\n",
    "has_special = input(\"Do you want to have Special Character(y/n)? :\").lower() == \"y\"\n",
    "\n",
    "pwd = generate_password(min_length, has_number, has_special)\n",
    "print(\"\\n\\nThe Generated Password is : \", pwd)"
   ]
  }
 ],
 "metadata": {
  "kernelspec": {
   "display_name": "Python 3 (ipykernel)",
   "language": "python",
   "name": "python3"
  },
  "language_info": {
   "codemirror_mode": {
    "name": "ipython",
    "version": 3
   },
   "file_extension": ".py",
   "mimetype": "text/x-python",
   "name": "python",
   "nbconvert_exporter": "python",
   "pygments_lexer": "ipython3",
   "version": "3.9.13"
  }
 },
 "nbformat": 4,
 "nbformat_minor": 5
}
