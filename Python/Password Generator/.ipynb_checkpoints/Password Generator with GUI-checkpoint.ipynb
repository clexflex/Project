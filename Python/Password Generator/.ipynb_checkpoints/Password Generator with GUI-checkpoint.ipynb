{
 "cells": [
  {
   "cell_type": "code",
   "execution_count": 1,
   "id": "511fb3aa",
   "metadata": {},
   "outputs": [],
   "source": [
    "import string\n",
    "import random\n",
    "from tkinter import *"
   ]
  },
  {
   "cell_type": "code",
   "execution_count": 2,
   "id": "e4177aef",
   "metadata": {},
   "outputs": [],
   "source": [
    "def generate_password(min_length, numbers=True, special_characters=True):\n",
    "    letters = string.ascii_letters\n",
    "    digits = string.digits\n",
    "    special = string.punctuation\n",
    "    \n",
    "    characters = letters\n",
    "    if numbers:\n",
    "        characters += digits\n",
    "    if special_characters:\n",
    "        characters += special\n",
    "        \n",
    "    pwd = \"\"\n",
    "    meets_criteria = False\n",
    "    has_number = False\n",
    "    has_special = False\n",
    "    \n",
    "    while not meets_criteria or len(pwd) < min_length:\n",
    "        new_char = random.choice(characters)\n",
    "        pwd += new_char\n",
    "        \n",
    "        if new_char in digits:\n",
    "            has_number = True\n",
    "        elif new_char in special:\n",
    "            has_special = True\n",
    "            \n",
    "        meets_criteria = True\n",
    "        if numbers:\n",
    "            meets_criteria = has_number\n",
    "        if special_characters:\n",
    "            meets_criteria = meets_criteria and has_special\n",
    "        \n",
    "    return pwd\n"
   ]
  },
  {
   "cell_type": "code",
   "execution_count": 3,
   "id": "68456942",
   "metadata": {},
   "outputs": [],
   "source": [
    "def generate_and_display_password():\n",
    "    min_length = int(min_length_entry.get())\n",
    "    has_number = has_number_var.get() == 1\n",
    "    has_special = has_special_var.get() == 1\n",
    "    \n",
    "    password = generate_password(min_length, has_number, has_special)\n",
    "    password_display.config(text=password)"
   ]
  },
  {
   "cell_type": "code",
   "execution_count": 4,
   "id": "77338667",
   "metadata": {},
   "outputs": [
    {
     "data": {
      "text/plain": [
       "''"
      ]
     },
     "execution_count": 4,
     "metadata": {},
     "output_type": "execute_result"
    }
   ],
   "source": [
    "root = Tk()\n",
    "root.title(\"Password Generator by Yashraj\")"
   ]
  },
  {
   "cell_type": "code",
   "execution_count": 5,
   "id": "2d6eb216",
   "metadata": {},
   "outputs": [],
   "source": [
    "# Labels\n",
    "Label(root, text=\"Minimum Length:\").grid(row=0, column=0)\n",
    "Label(root, text=\"Include Numbers:\").grid(row=1, column=0)\n",
    "Label(root, text=\"Include Special Characters:\").grid(row=2, column=0)\n",
    "Label(root, text=\"Generated Password:\").grid(row=3, column=0)\n",
    "\n"
   ]
  },
  {
   "cell_type": "code",
   "execution_count": 6,
   "id": "ed3495fa",
   "metadata": {},
   "outputs": [],
   "source": [
    "# Entries and Checkboxes\n",
    "min_length_entry = Entry(root)\n",
    "min_length_entry.grid(row=0, column=1)\n",
    "\n",
    "has_number_var = IntVar(value=1)\n",
    "has_special_var = IntVar(value=1)\n",
    "\n",
    "Checkbutton(root, variable=has_number_var).grid(row=1, column=1)\n",
    "Checkbutton(root, variable=has_special_var).grid(row=2, column=1)\n",
    "\n"
   ]
  },
  {
   "cell_type": "code",
   "execution_count": 7,
   "id": "e0584fc2",
   "metadata": {},
   "outputs": [],
   "source": [
    "\n",
    "# Display generated password\n",
    "password_display = Label(root, text=\"\")\n",
    "password_display.grid(row=3, column=1)"
   ]
  },
  {
   "cell_type": "code",
   "execution_count": 8,
   "id": "26334619",
   "metadata": {},
   "outputs": [],
   "source": [
    "# Generate button\n",
    "generate_button = Button(root, text=\"Generate Password\", command=generate_and_display_password)\n",
    "generate_button.grid(row=4, columnspan=2)\n",
    "\n",
    "root.mainloop()"
   ]
  }
 ],
 "metadata": {
  "kernelspec": {
   "display_name": "Python 3 (ipykernel)",
   "language": "python",
   "name": "python3"
  },
  "language_info": {
   "codemirror_mode": {
    "name": "ipython",
    "version": 3
   },
   "file_extension": ".py",
   "mimetype": "text/x-python",
   "name": "python",
   "nbconvert_exporter": "python",
   "pygments_lexer": "ipython3",
   "version": "3.9.13"
  }
 },
 "nbformat": 4,
 "nbformat_minor": 5
}
