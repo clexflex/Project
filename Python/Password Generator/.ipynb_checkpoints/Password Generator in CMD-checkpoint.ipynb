{
 "cells": [
  {
   "cell_type": "code",
   "execution_count": 1,
   "id": "82888297",
   "metadata": {},
   "outputs": [],
   "source": [
    "import random\n",
    "import string"
   ]
  },
  {
   "cell_type": "code",
   "execution_count": 4,
   "id": "682da319",
   "metadata": {},
   "outputs": [
    {
     "ename": "SyntaxError",
     "evalue": "invalid syntax (2408645066.py, line 40)",
     "output_type": "error",
     "traceback": [
      "\u001b[0;36m  File \u001b[0;32m\"/var/folders/q6/8yscqmqs1cn_0n8z28c8vlw80000gn/T/ipykernel_93087/2408645066.py\"\u001b[0;36m, line \u001b[0;32m40\u001b[0m\n\u001b[0;31m    print(\"\\n\\nThe Generated Password is : \"pwd)\u001b[0m\n\u001b[0m                                            ^\u001b[0m\n\u001b[0;31mSyntaxError\u001b[0m\u001b[0;31m:\u001b[0m invalid syntax\n"
     ]
    }
   ],
   "source": [
    "def generate_password(min_length, numbers=True, special_characters=True):\n",
    "    letters = string.ascii_letters\n",
    "    digits = string.digits\n",
    "    special = string.punctuation\n",
    "    \n",
    "    characters = letters\n",
    "    if numbers:\n",
    "        characters += digits\n",
    "    if special_characters:\n",
    "        characters += special\n",
    "        \n",
    "    pwd =\"\" #password\n",
    "    meets_criteria = False\n",
    "    has_number = False\n",
    "    has_special = False\n",
    "    \n",
    "    while not meets_criteria or len(pwd) < min_length:\n",
    "        new_char = random.choice(characters)\n",
    "        pwd+= new_char\n",
    "        \n",
    "        if new_char in digits:\n",
    "            has_number = True\n",
    "        elif new_char in special:\n",
    "            has_special = True\n",
    "            \n",
    "        meets_criteria = True\n",
    "        if numbers:\n",
    "            meets_criteria = has_number\n",
    "        if special_characters:\n",
    "            meets_criteria = meets_criteria and has_special\n",
    "        \n",
    "    return pwd\n",
    "\n",
    "\n",
    "min_length = int(input(\"Enter the Minimum Length: \"))\n",
    "has_number = input(\"Do you want to have numbers(y/n)? :\").lower() == \"y\"\n",
    "has_special = input(\"Do you want to have Special Character(y/n)? :\").lower() == \"y\"\n",
    "\n",
    "pwd = generate_password(min_length, has_number, has_special)\n",
    "print(\"\\n\\nThe Generated Password is : \", pwd)"
   ]
  }
 ],
 "metadata": {
  "kernelspec": {
   "display_name": "Python 3 (ipykernel)",
   "language": "python",
   "name": "python3"
  },
  "language_info": {
   "codemirror_mode": {
    "name": "ipython",
    "version": 3
   },
   "file_extension": ".py",
   "mimetype": "text/x-python",
   "name": "python",
   "nbconvert_exporter": "python",
   "pygments_lexer": "ipython3",
   "version": "3.9.13"
  }
 },
 "nbformat": 4,
 "nbformat_minor": 5
}
